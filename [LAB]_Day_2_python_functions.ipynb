{
  "cells": [
    {
      "cell_type": "markdown",
      "id": "25d7736c-ba17-4aff-b6bb-66eba20fbf4e",
      "metadata": {
        "id": "25d7736c-ba17-4aff-b6bb-66eba20fbf4e"
      },
      "source": [
        "# Lab | Functions"
      ]
    },
    {
      "cell_type": "markdown",
      "id": "0c581062-8967-4d93-b06e-62833222f930",
      "metadata": {
        "tags": [],
        "id": "0c581062-8967-4d93-b06e-62833222f930"
      },
      "source": [
        "## Exercise: Managing Customer Orders with Functions\n",
        "\n",
        "In the previous exercise, you improved the code for managing customer orders by using loops and flow control. Now, let's take it a step further and refactor the code by introducing functions.\n",
        "\n",
        "Follow the steps below to complete the exercise:\n",
        "\n",
        "1. Define a function named `initialize_inventory` that takes `products` as a parameter. Inside the function, implement the code for initializing the inventory dictionary using a loop and user input.\n",
        "\n",
        "2. Define a function named `get_customer_orders` that takes no parameters. Inside the function, implement the code for prompting the user to enter the product names using a loop. The function should return the `customer_orders` set.\n",
        "\n",
        "3. Define a function named `update_inventory` that takes `customer_orders` and `inventory` as parameters. Inside the function, implement the code for updating the inventory dictionary based on the customer orders.\n",
        "\n",
        "4. Define a function named `calculate_order_statistics` that takes `customer_orders` and `products` as parameters. Inside the function, implement the code for calculating the order statistics (total products ordered, and percentage of unique products ordered). The function should return these values.\n",
        "\n",
        "5. Define a function named `print_order_statistics` that takes `order_statistics` as a parameter. Inside the function, implement the code for printing the order statistics.\n",
        "\n",
        "6. Define a function named `print_updated_inventory` that takes `inventory` as a parameter. Inside the function, implement the code for printing the updated inventory.\n",
        "\n",
        "7. Call the functions in the appropriate sequence to execute the program and manage customer orders.\n",
        "\n",
        "Hints for functions:\n",
        "\n",
        "- Consider the input parameters required for each function and their return values.\n",
        "- Utilize function parameters and return values to transfer data between functions.\n",
        "- Test your functions individually to ensure they work correctly.\n",
        "\n",
        "\n"
      ]
    },
    {
      "cell_type": "code",
      "source": [
        "products = [\"t-shirt\", \"mug\", \"hat\", \"book\", \"keychain\"]"
      ],
      "metadata": {
        "id": "wZeWbuhVOr6h"
      },
      "id": "wZeWbuhVOr6h",
      "execution_count": 9,
      "outputs": []
    },
    {
      "cell_type": "code",
      "source": [
        "# 1. Define a function named initialize_inventory that takes products as a parameter.\n",
        "# Inside the function, implement the code for initializing the inventory dictionary using a loop and user input.\n",
        "\n",
        "def initialize_inventory(products):\n",
        "    inventory = {}\n",
        "    for product in products:\n",
        "        quantity = int(input(f\"Enter the initial quantity for {product}: \"))\n",
        "        inventory[product] = quantity\n",
        "    return inventory\n",
        "\n",
        "# Initialize inventory\n",
        "inventory = initialize_inventory(products)"
      ],
      "metadata": {
        "id": "RR-Skd0RGt9B",
        "colab": {
          "base_uri": "https://localhost:8080/"
        },
        "outputId": "e3852838-5da5-4cdb-c611-98893fa5e245"
      },
      "id": "RR-Skd0RGt9B",
      "execution_count": 11,
      "outputs": [
        {
          "name": "stdout",
          "output_type": "stream",
          "text": [
            "Enter the initial quantity for t-shirt: 5\n",
            "Enter the initial quantity for mug: 6\n",
            "Enter the initial quantity for hat: 7\n",
            "Enter the initial quantity for book: 8\n",
            "Enter the initial quantity for keychain: 9\n"
          ]
        }
      ]
    },
    {
      "cell_type": "code",
      "source": [
        "# 2. Define a function named get_customer_orders that takes no parameters.\n",
        "# Inside the function, implement the code for prompting the user to enter the product names using a loop.\n",
        "# The function should return the customer_orders set.\n",
        "\n",
        "def get_customer_orders():\n",
        "    customer_orders = set()\n",
        "\n",
        "    while True:\n",
        "        product_name = input(\"Enter a product name (or 'done' to finish): \")\n",
        "\n",
        "        if product_name.lower() == 'done':\n",
        "            break\n",
        "        else:\n",
        "            customer_orders.add(product_name)\n",
        "\n",
        "    return customer_orders\n",
        "\n",
        "\n",
        "'''\n",
        "# Example usage:\n",
        "customer_orders_set = get_customer_orders()\n",
        "print(\"Customer Orders:\", customer_orders_set)\n",
        "'''\n",
        "\n",
        "# 2. Get customer orders\n",
        "customer_orders = get_customer_orders()"
      ],
      "metadata": {
        "colab": {
          "base_uri": "https://localhost:8080/"
        },
        "id": "nIvrH5TvHDI4",
        "outputId": "989014e3-1e5a-40d1-ba43-7c5554620a13"
      },
      "id": "nIvrH5TvHDI4",
      "execution_count": 12,
      "outputs": [
        {
          "name": "stdout",
          "output_type": "stream",
          "text": [
            "Enter a product name (or 'done' to finish): t-shirt\n",
            "Enter a product name (or 'done' to finish): mug\n",
            "Enter a product name (or 'done' to finish): hat\n",
            "Enter a product name (or 'done' to finish): done\n"
          ]
        }
      ]
    },
    {
      "cell_type": "code",
      "source": [
        "# 3. Define a function named update_inventory that takes customer_orders and inventory as parameters.\n",
        "# Inside the function, implement the code for updating the inventory dictionary based on the customer orders.\n",
        "\n",
        "\n",
        "def update_inventory(customer_orders, inventory):\n",
        "    for product in customer_orders:\n",
        "        quantity_sold = int(input(f\"Enter the quantity sold for {product}: \"))\n",
        "\n",
        "        # Check if the product is in the inventory\n",
        "        if product in inventory:\n",
        "            # Check if there is enough quantity in inventory\n",
        "            if quantity_sold <= inventory[product]:\n",
        "                inventory[product] -= quantity_sold\n",
        "                print(f\"{quantity_sold} units of {product} sold. Updated inventory.\")\n",
        "            else:\n",
        "                print(f\"Not enough stock for {product}. Available stock: {inventory[product]}\")\n",
        "        else:\n",
        "            print(f\"{product} not found in inventory.\")\n",
        "\n",
        "    return inventory\n",
        "\n",
        "'''\n",
        "# Example usage:\n",
        "initial_inventory = {'item1': 10, 'item2': 15, 'item3': 20}\n",
        "customer_orders = {'item1', 'item3'}\n",
        "\n",
        "updated_inventory = update_inventory(customer_orders, initial_inventory)\n",
        "print(\"Updated Inventory:\", updated_inventory)\n",
        "\n",
        "'''\n",
        "\n",
        "# Update inventory\n",
        "inventory = update_inventory(customer_orders, inventory)"
      ],
      "metadata": {
        "colab": {
          "base_uri": "https://localhost:8080/"
        },
        "id": "0LU_CuEdHLTK",
        "outputId": "12d656e3-ba1e-42fe-b831-34d2653c31a8"
      },
      "id": "0LU_CuEdHLTK",
      "execution_count": 13,
      "outputs": [
        {
          "output_type": "stream",
          "name": "stdout",
          "text": [
            "Enter the quantity sold for mug: 2\n",
            "2 units of mug sold. Updated inventory.\n",
            "Enter the quantity sold for t-shirt: 3\n",
            "3 units of t-shirt sold. Updated inventory.\n",
            "Enter the quantity sold for hat: 4\n",
            "4 units of hat sold. Updated inventory.\n"
          ]
        }
      ]
    },
    {
      "cell_type": "code",
      "source": [
        "# 4.Define a function named calculate_order_statistics that takes customer_orders and products as parameters.\n",
        "# Inside the function, implement the code for calculating the order statistics (total products ordered, and percentage of unique products ordered).\n",
        "# The function should return these values.\n",
        "\n",
        "\n",
        "def calculate_order_statistics(customer_orders, products):\n",
        "    total_products_ordered = len(customer_orders)\n",
        "    unique_products_ordered = len(set(customer_orders))\n",
        "    return total_products_ordered, (unique_products_ordered / len(products)) * 100\n",
        "\n",
        "'''\n",
        "# Example usage:\n",
        "all_products = ['item1', 'item2', 'item3', 'item4', 'item5']\n",
        "customer_orders = ['item1', 'item3', 'item2', 'item1', 'item4']\n",
        "\n",
        "total_ordered, unique_ordered, percentage_unique = calculate_order_statistics(customer_orders, all_products)\n",
        "\n",
        "print(f\"Total Products Ordered: {total_ordered}\")\n",
        "print(f\"Unique Products Ordered: {unique_ordered}\")\n",
        "print(f\"Percentage of Unique Products Ordered: {percentage_unique}%\")\n",
        "'''\n",
        "\n",
        "# Calculate order statistics\n",
        "order_statistics = calculate_order_statistics(customer_orders, products)"
      ],
      "metadata": {
        "id": "oDMSsgK0HReo"
      },
      "id": "oDMSsgK0HReo",
      "execution_count": 17,
      "outputs": []
    },
    {
      "cell_type": "code",
      "source": [
        "# 5. Define a function named print_order_statistics that takes order_statistics as a parameter.\n",
        "# Inside the function, implement the code for printing the order statistics.\n",
        "\n",
        "def print_order_statistics(order_statistics):\n",
        "    total_products_ordered, percentage_unique = order_statistics\n",
        "    print(f\"Total products ordered: {total_products_ordered}\")\n",
        "    print(f\"Percentage of unique products ordered: {percentage_unique}%\")\n",
        "\n",
        "# Print order statistics\n",
        "print_order_statistics(order_statistics)"
      ],
      "metadata": {
        "colab": {
          "base_uri": "https://localhost:8080/"
        },
        "id": "dg9pC8z1Ftu4",
        "outputId": "7a50a23d-3b9d-4e8a-9751-ab4ffc111f92"
      },
      "id": "dg9pC8z1Ftu4",
      "execution_count": 18,
      "outputs": [
        {
          "output_type": "stream",
          "name": "stdout",
          "text": [
            "Total products ordered: 3\n",
            "Percentage of unique products ordered: 60.0%\n"
          ]
        }
      ]
    },
    {
      "cell_type": "code",
      "source": [
        "# 6. Define a function named print_updated_inventory that takes inventory as a parameter.\n",
        "# Inside the function, implement the code for printing the updated inventory.\n",
        "\n",
        "def print_updated_inventory(inventory):\n",
        "    print(\"Updated Inventory:\")\n",
        "    for product, quantity in inventory.items():\n",
        "        print(f\"{product}: {quantity}\")\n",
        "\n",
        "# Print updated inventory\n",
        "print_updated_inventory(inventory)"
      ],
      "metadata": {
        "colab": {
          "base_uri": "https://localhost:8080/"
        },
        "id": "Nd1ja49rGJBL",
        "outputId": "f6711118-b816-4d7f-a20d-ff981c702a47"
      },
      "id": "Nd1ja49rGJBL",
      "execution_count": 19,
      "outputs": [
        {
          "output_type": "stream",
          "name": "stdout",
          "text": [
            "Updated Inventory:\n",
            "t-shirt: 2\n",
            "mug: 4\n",
            "hat: 3\n",
            "book: 8\n",
            "keychain: 9\n"
          ]
        }
      ]
    },
    {
      "cell_type": "code",
      "source": [
        "# 7. Call the functions in the appropriate sequence to execute the program and manage customer orders.\n",
        "''' [OK]'''"
      ],
      "metadata": {
        "id": "9EY7_Ti0H_sY"
      },
      "id": "9EY7_Ti0H_sY",
      "execution_count": null,
      "outputs": []
    }
  ],
  "metadata": {
    "kernelspec": {
      "display_name": "Python 3 (ipykernel)",
      "language": "python",
      "name": "python3"
    },
    "language_info": {
      "codemirror_mode": {
        "name": "ipython",
        "version": 3
      },
      "file_extension": ".py",
      "mimetype": "text/x-python",
      "name": "python",
      "nbconvert_exporter": "python",
      "pygments_lexer": "ipython3",
      "version": "3.9.13"
    },
    "colab": {
      "provenance": []
    }
  },
  "nbformat": 4,
  "nbformat_minor": 5
}